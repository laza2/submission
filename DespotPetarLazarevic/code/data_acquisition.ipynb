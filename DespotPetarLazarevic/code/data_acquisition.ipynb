{
 "cells": [
  {
   "cell_type": "markdown",
   "id": "d2220210",
   "metadata": {},
   "source": [
    "# Radar Data Streaming and Pre-Processing with data acquisiton"
   ]
  },
  {
   "cell_type": "markdown",
   "id": "e75d2a7f",
   "metadata": {},
   "source": [
    "#### Importing required libraries \n",
    "\n",
    "    - ifxdaq --> is the python wrapper for Radar SDK\n",
    "    - processing --> is python module for basic processing to get the range-Dopplers from the signal\n",
    "    - fft --> contains the range_fft and doppler_fft methods\n",
    "    "
   ]
  },
  {
   "cell_type": "code",
   "execution_count": 1,
   "id": "9955721e",
   "metadata": {},
   "outputs": [],
   "source": [
    "import ifxdaq\n",
    "import processing\n",
    "import numpy as np\n",
    "#print(ifxdaq.__version__)\n",
    "from ifxdaq.sensor.radar_ifx import RadarIfxAvian\n",
    "import matplotlib.pyplot as plot\n",
    "import os"
   ]
  },
  {
   "cell_type": "markdown",
   "id": "7cfec634",
   "metadata": {},
   "source": [
    "#### In the folder 'radar_configs' you find radar configuration parameters. It contains radar parameters :\n",
    "\n",
    "    - transmit power level\n",
    "    - start/end frequency\n",
    "    - sampling rate\n",
    "    - # of chirps per frame\n",
    "    - # of samples per chirp\n",
    "    - # of transmit/receive antennas\n",
    "    - MIMO mode selection"
   ]
  },
  {
   "cell_type": "code",
   "execution_count": 2,
   "id": "264b965d",
   "metadata": {},
   "outputs": [],
   "source": [
    "config_file = \"radar_configs/RadarIfxBGT60.json\"\n",
    "number_of_frames = 1000\n"
   ]
  },
  {
   "cell_type": "code",
   "execution_count": 3,
   "id": "385e28f4",
   "metadata": {},
   "outputs": [
    {
     "name": "stdout",
     "output_type": "stream",
     "text": [
      "With the current configuration, the radar will send out 64 signals with varying frequency (\"chirps\") between 60.5 GHz and 61.5 GHz.\n",
      "Each chirp will consist of 128 ADC measurements of the IF signal (\"samples\").\n",
      "A chirp takes 64.0 microseconds and the delay between the chirps is 400.0 microseconds.\n",
      "With a total frame duration of 29.696 milliseconds and a delay of 50.0 milliseconds between the frame we get a frame rate of 12.547681188516362 radar frames per second.\n"
     ]
    }
   ],
   "source": [
    "## Run this to understand the current radar settings better\n",
    "import json\n",
    "with open(config_file) as json_file:\n",
    "    c = json.load(json_file)[\"device_config\"][\"fmcw_single_shape\"]\n",
    "    chirp_duration = c[\"num_samples_per_chirp\"]/c['sample_rate_Hz']\n",
    "    frame_duration = (chirp_duration + c['chirp_repetition_time_s']) * c['num_chirps_per_frame']\n",
    "    print(\"With the current configuration, the radar will send out \" + str(c['num_chirps_per_frame']) + \\\n",
    "          ' signals with varying frequency (\"chirps\") between ' + str(c['start_frequency_Hz']/1e9) + \" GHz and \" + \\\n",
    "          str(c['end_frequency_Hz']/1e9) + \" GHz.\")\n",
    "    print('Each chirp will consist of ' + str(c[\"num_samples_per_chirp\"]) + ' ADC measurements of the IF signal (\"samples\").')\n",
    "    print('A chirp takes ' + str(chirp_duration*1e6) + ' microseconds and the delay between the chirps is ' + str(c['chirp_repetition_time_s']*1e6) +' microseconds.')\n",
    "    print('With a total frame duration of ' + str(frame_duration*1e3) + ' milliseconds and a delay of ' + str(c['frame_repetition_time_s']*1e3) + ' milliseconds between the frame we get a frame rate of ' + str(1/(frame_duration + c['frame_repetition_time_s'])) + ' radar frames per second.')"
   ]
  },
  {
   "cell_type": "markdown",
   "id": "d7a8fa6b-f865-4269-bc34-b5a853d9fd1b",
   "metadata": {},
   "source": [
    "## Function for saving the data"
   ]
  },
  {
   "cell_type": "code",
   "execution_count": 4,
   "id": "ad12b46c-f342-4ea2-86cc-16ea3b4f2eba",
   "metadata": {},
   "outputs": [],
   "source": [
    "def save_data(raw, rd_map, out_dir=r\"out_data\"):\n",
    "    # Creating output directory\n",
    "    files = os.listdir(out_dir)\n",
    "    i = 100\n",
    "    while f\"experiment_{i:03d}\" in files:\n",
    "        i+=1\n",
    "    out_dir = out_dir+f\"\\experiment_{i:03d}\"\n",
    "    os.makedirs(out_dir)\n",
    "\n",
    "    # Saving data\n",
    "    file_name = out_dir + \"\\\\raw_data.npy\"\n",
    "    with open(file_name, 'wb') as outfile:\n",
    "        np.save(outfile,raw)\n",
    "    file_name = out_dir + \"\\\\range_dopler_map.npy\"\n",
    "    with open(file_name, 'wb') as outfile:\n",
    "        np.save(outfile,rd_map)\n",
    "    print(out_dir)"
   ]
  },
  {
   "cell_type": "markdown",
   "id": "738f92c5-4a38-4eab-912b-927d7d9645e1",
   "metadata": {},
   "source": [
    "### Main part of the program"
   ]
  },
  {
   "cell_type": "code",
   "execution_count": null,
   "id": "7ce74382",
   "metadata": {
    "scrolled": true
   },
   "outputs": [],
   "source": [
    "import time\n",
    "\n",
    "number_of_frames = 1000\n",
    "raw_data    = []\n",
    "\n",
    "# time.sleep(3)\n",
    "\n",
    "with RadarIfxAvian(config_file) as device:                             # Initialize the radar with configurations\n",
    "    \n",
    "    for i_frame, frame in enumerate(device):                           # Loop through the frames coming from the radar\n",
    "        \n",
    "        raw_data.append(np.squeeze(frame['radar'].data/(4095.0)))      # Dividing by 4095.0 to scale the data\n",
    "        if(i_frame == number_of_frames-1):\n",
    "            data = np.asarray(raw_data)\n",
    "            range_doppler_map = processing.processing_rangeDopplerData(data)\n",
    "            #del data\n",
    "            break   \n",
    "            \n",
    "save_data(data, range_doppler_map)"
   ]
  }
 ],
 "metadata": {
  "kernelspec": {
   "display_name": "Python 3 (ipykernel)",
   "language": "python",
   "name": "python3"
  },
  "language_info": {
   "codemirror_mode": {
    "name": "ipython",
    "version": 3
   },
   "file_extension": ".py",
   "mimetype": "text/x-python",
   "name": "python",
   "nbconvert_exporter": "python",
   "pygments_lexer": "ipython3",
   "version": "3.9.12"
  }
 },
 "nbformat": 4,
 "nbformat_minor": 5
}
